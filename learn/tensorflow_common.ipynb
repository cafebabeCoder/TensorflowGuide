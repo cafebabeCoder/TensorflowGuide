{
 "cells": [
  {
   "cell_type": "code",
   "execution_count": 1,
   "metadata": {},
   "outputs": [
    {
     "name": "stderr",
     "output_type": "stream",
     "text": [
      "/data/anaconda2/lib/python2.7/site-packages/h5py/__init__.py:34: FutureWarning: Conversion of the second argument of issubdtype from `float` to `np.floating` is deprecated. In future, it will be treated as `np.float64 == np.dtype(float).type`.\n",
      "  from ._conv import register_converters as _register_converters\n"
     ]
    },
    {
     "name": "stdout",
     "output_type": "stream",
     "text": [
      "WARNING:tensorflow:From /data/anaconda2/lib/python2.7/site-packages/tensorflow/contrib/learn/python/learn/datasets/base.py:198: retry (from tensorflow.contrib.learn.python.learn.datasets.base) is deprecated and will be removed in a future version.\n",
      "Instructions for updating:\n",
      "Use the retry module or similar alternatives.\n"
     ]
    }
   ],
   "source": [
    "import tensorflow as tf\n",
    "import numpy as np\n",
    "import matplotlib.pyplot as plt\n",
    "from tensorflow.examples.tutorials.mnist import input_data"
   ]
  },
  {
   "cell_type": "markdown",
   "metadata": {},
   "source": [
    "## variable"
   ]
  },
  {
   "cell_type": "markdown",
   "metadata": {},
   "source": [
    "初始化变量"
   ]
  },
  {
   "cell_type": "code",
   "execution_count": 4,
   "metadata": {},
   "outputs": [
    {
     "name": "stdout",
     "output_type": "stream",
     "text": [
      "[4 5]\n"
     ]
    }
   ],
   "source": [
    "x = tf.Variable([1, 2])\n",
    "a = tf.constant([3, 3])\n",
    "\n",
    "add = tf.add(x, a)\n",
    "init = tf.global_variables_initializer()\n",
    "\n",
    "with tf.Session() as sess:\n",
    "    sess.run(init)\n",
    "    print(sess.run(add))"
   ]
  },
  {
   "cell_type": "markdown",
   "metadata": {},
   "source": [
    "变量赋值"
   ]
  },
  {
   "cell_type": "code",
   "execution_count": 8,
   "metadata": {},
   "outputs": [
    {
     "name": "stdout",
     "output_type": "stream",
     "text": [
      "0\n",
      "1\n",
      "2\n",
      "3\n"
     ]
    }
   ],
   "source": [
    "state = tf.Variable(0, name='counter')\n",
    "iters = tf.add(state, 1)\n",
    "update = tf.assign(state, iters)\n",
    "init = tf.global_variables_initializer()\n",
    "\n",
    "with tf.Session() as sess:\n",
    "    sess.run(init)\n",
    "    print(sess.run(state))\n",
    "    for _ in range(3):\n",
    "        sess.run(update)\n",
    "        print(sess.run(state))"
   ]
  },
  {
   "cell_type": "markdown",
   "metadata": {},
   "source": [
    "## Fetch & feed"
   ]
  },
  {
   "cell_type": "code",
   "execution_count": 9,
   "metadata": {},
   "outputs": [
    {
     "name": "stdout",
     "output_type": "stream",
     "text": [
      "[5.0, 6.0]\n"
     ]
    }
   ],
   "source": [
    "#fetch可以执行多个操作\n",
    "input1 = tf.constant(3.0)\n",
    "input2 = tf.constant(2.0)\n",
    "add = tf.add(input1, input2)\n",
    "mul = tf.multiply(input1, input2)\n",
    "with tf.Session() as sess:\n",
    "    result = sess.run([add, mul])\n",
    "    print (result)"
   ]
  },
  {
   "cell_type": "code",
   "execution_count": 10,
   "metadata": {},
   "outputs": [
    {
     "name": "stdout",
     "output_type": "stream",
     "text": [
      "[0.2]\n"
     ]
    }
   ],
   "source": [
    "#feed可以在运行的时候传入值\n",
    "input1 = tf.placeholder(tf.float32)\n",
    "input2 = tf.placeholder(tf.float32)\n",
    "output = tf.multiply(input1, input2)\n",
    "\n",
    "with tf.Session() as sess:\n",
    "    print(sess.run(output, feed_dict={input1:[0.5], input2:[0.4]}))"
   ]
  },
  {
   "cell_type": "markdown",
   "metadata": {},
   "source": [
    "## demo example"
   ]
  },
  {
   "cell_type": "code",
   "execution_count": 15,
   "metadata": {},
   "outputs": [
    {
     "name": "stdout",
     "output_type": "stream",
     "text": [
      "(0, [0.05746142, 0.101494886])\n",
      "(20, [0.10650051, 0.19629987])\n",
      "(40, [0.10413487, 0.19764642])\n",
      "(60, [0.10263014, 0.19850293])\n",
      "(80, [0.101673, 0.19904773])\n",
      "(100, [0.10106417, 0.19939427])\n",
      "(120, [0.10067691, 0.1996147])\n",
      "(140, [0.10043056, 0.19975492])\n",
      "(160, [0.10027386, 0.1998441])\n",
      "(180, [0.10017419, 0.19990085])\n"
     ]
    }
   ],
   "source": [
    "x_data = np.random.rand(100)\n",
    "y_data = x_data * 0.1 + 0.2\n",
    "\n",
    "#构造一个线性模型\n",
    "b = tf.Variable(0.)\n",
    "k = tf.Variable(0.)\n",
    "y = k*x_data + b\n",
    "loss = tf.reduce_mean(tf.square(y_data - y))\n",
    "optimizer = tf.train.GradientDescentOptimizer(0.2)\n",
    "train = optimizer.minimize(loss)\n",
    "#init\n",
    "init = tf.global_variables_initializer()\n",
    "#run\n",
    "with tf.Session() as sess:\n",
    "    sess.run(init)\n",
    "    for step in range(200):\n",
    "        sess.run(train)\n",
    "        if(step % 20 == 0):\n",
    "            print(step, sess.run([k, b]))\n"
   ]
  },
  {
   "cell_type": "markdown",
   "metadata": {},
   "source": [
    "## Linear regression"
   ]
  },
  {
   "cell_type": "code",
   "execution_count": 22,
   "metadata": {},
   "outputs": [
    {
     "data": {
      "image/png": "[encoded data removed]",
      "text/plain": [
       "<matplotlib.figure.Figure at 0x7ffacc699210>"
      ]
     },
     "metadata": {},
     "output_type": "display_data"
    }
   ],
   "source": [
    "#生成样本点\n",
    "x_data = np.linspace(-0.5, 0.5, 200)[:, np.newaxis]\n",
    "noise = np.random.normal(0, 0.02, x_data.shape)\n",
    "y_data = np.square(x_data) + noise\n",
    "#network\n",
    "x = tf.placeholder(tf.float32, [None, 1])\n",
    "y = tf.placeholder(tf.float32, [None, 1])\n",
    "\n",
    "#L1\n",
    "w1 = tf.Variable(tf.random_normal([1, 10]))\n",
    "b1 = tf.Variable(tf.zeros([1, 10]))\n",
    "a1 = tf.matmul(x, w1) + b1\n",
    "L1 = tf.tanh(a1)\n",
    "\n",
    "#L2\n",
    "w2 = tf.Variable(tf.random_normal([10, 1]))\n",
    "b2 = tf.Variable(tf.zeros([1, 1]))\n",
    "a2 = tf.matmul(L1, w2) + b2\n",
    "out = tf.tanh(a2)\n",
    "\n",
    "#train\n",
    "loss = tf.reduce_mean(tf.square(out - y_data))\n",
    "train = tf.train.GradientDescentOptimizer(0.1).minimize(loss)\n",
    "\n",
    "with tf.Session() as sess:\n",
    "        sess.run(tf.global_variables_initializer())\n",
    "        for _ in range(2000):\n",
    "            sess.run(train, feed_dict={x:x_data, y:y_data})\n",
    "        \n",
    "        predict_v = sess.run(out, feed_dict={x:x_data})\n",
    "        \n",
    "        #draw\n",
    "        plt.figure()\n",
    "        plt.scatter(x_data, y_data)\n",
    "        plt.plot(x_data, predict_v, 'r-')\n",
    "        plt.show()\n"
   ]
  },
  {
   "cell_type": "markdown",
   "metadata": {},
   "source": [
    "## MNIST"
   ]
  },
  {
   "cell_type": "markdown",
   "metadata": {},
   "source": [
    "最小二乘和交叉熵两种loss"
   ]
  },
  {
   "cell_type": "code",
   "execution_count": 5,
   "metadata": {},
   "outputs": [
    {
     "name": "stdout",
     "output_type": "stream",
     "text": [
      "Extracting ../MNIST/MNIST_data/train-images-idx3-ubyte.gz\n",
      "Extracting ../MNIST/MNIST_data/train-labels-idx1-ubyte.gz\n",
      "Extracting ../MNIST/MNIST_data/t10k-images-idx3-ubyte.gz\n",
      "Extracting ../MNIST/MNIST_data/t10k-labels-idx1-ubyte.gz\n",
      "Iter: 0, accuracy: 0.5487\n",
      "Iter: 1, accuracy: 0.6145\n",
      "Iter: 2, accuracy: 0.7047\n",
      "Iter: 3, accuracy: 0.7683\n",
      "Iter: 4, accuracy: 0.7904\n"
     ]
    }
   ],
   "source": [
    "mnist = input_data.read_data_sets(\"../MNIST/MNIST_data\", one_hot=True)\n",
    "batch_size = 100\n",
    "n_batch = mnist.train.num_examples // batch_size\n",
    "\n",
    "#network\n",
    "x = tf.placeholder(tf.float32, [None, 784])\n",
    "y = tf.placeholder(tf.float32, [None, 10])\n",
    "\n",
    "w = tf.Variable(tf.zeros([784, 10]))\n",
    "b = tf.Variable(tf.zeros([10]))\n",
    "predict = tf.nn.softmax(tf.matmul(x, w) + b)\n",
    "#两种loss,最小二乘和交叉熵\n",
    "#loss = tf.reduce_mean(tf.square(y-predict))\n",
    "loss = tf.reduce_mean(tf.nn.softmax_cross_entropy_with_logits(labels = y, logits=predict))\n",
    "train = tf.train.GradientDescentOptimizer(0.01).minimize(loss)\n",
    "\n",
    "#run\n",
    "init = tf.global_variables_initializer()\n",
    "correct_predict = tf.equal(tf.argmax(y, 1), tf.argmax(predict, 1))  #argmax返回最大值的位置\n",
    "accuracy = tf.reduce_mean(tf.cast(correct_predict, tf.float32))\n",
    "\n",
    "with tf.Session() as sess:\n",
    "    sess.run(init)\n",
    "    for epoch in range(5):\n",
    "        for batch in range(n_batch):\n",
    "            batch_xs, batch_ys = mnist.train.next_batch(batch_size)\n",
    "            sess.run(train, feed_dict={x:batch_xs, y:batch_ys})\n",
    "        auc = sess.run(accuracy, feed_dict={x:mnist.test.images, y:mnist.test.labels})\n",
    "        print(\"Iter: \"+str(epoch) +\", accuracy: \"+str(auc))"
   ]
  },
  {
   "cell_type": "markdown",
   "metadata": {},
   "source": [
    "drop-out & init\n",
    "![image.png](attachment:image.png)"
   ]
  },
  {
   "cell_type": "code",
   "execution_count": 47,
   "metadata": {},
   "outputs": [
    {
     "name": "stdout",
     "output_type": "stream",
     "text": [
      "Extracting D:\\workPlace\\python\\MNIST\\MNIST_data\\/train-images-idx3-ubyte.gz\n",
      "Extracting D:\\workPlace\\python\\MNIST\\MNIST_data\\/train-labels-idx1-ubyte.gz\n",
      "Extracting D:\\workPlace\\python\\MNIST\\MNIST_data\\/t10k-images-idx3-ubyte.gz\n",
      "Extracting D:\\workPlace\\python\\MNIST\\MNIST_data\\/t10k-labels-idx1-ubyte.gz\n",
      "Iter: 0, test_acc: 0.411, train_acc: 0.4158\n",
      "Iter: 1, test_acc: 0.5667273, train_acc: 0.5739\n",
      "Iter: 2, test_acc: 0.64525455, train_acc: 0.6563\n",
      "Iter: 3, test_acc: 0.7175091, train_acc: 0.7213\n",
      "Iter: 4, test_acc: 0.75714546, train_acc: 0.7631\n",
      "Iter: 5, test_acc: 0.7824182, train_acc: 0.7949\n",
      "Iter: 6, test_acc: 0.7994, train_acc: 0.8099\n",
      "Iter: 7, test_acc: 0.81094545, train_acc: 0.8208\n",
      "Iter: 8, test_acc: 0.8232727, train_acc: 0.8294\n",
      "Iter: 9, test_acc: 0.8293273, train_acc: 0.8411\n",
      "Iter: 10, test_acc: 0.83216363, train_acc: 0.8412\n",
      "Iter: 11, test_acc: 0.8421636, train_acc: 0.8476\n",
      "Iter: 12, test_acc: 0.84385455, train_acc: 0.8489\n",
      "Iter: 13, test_acc: 0.84647274, train_acc: 0.8531\n",
      "Iter: 14, test_acc: 0.8526545, train_acc: 0.8608\n",
      "Iter: 15, test_acc: 0.85449094, train_acc: 0.8632\n",
      "Iter: 16, test_acc: 0.8574909, train_acc: 0.8645\n",
      "Iter: 17, test_acc: 0.8607091, train_acc: 0.8672\n",
      "Iter: 18, test_acc: 0.8623273, train_acc: 0.8655\n",
      "Iter: 19, test_acc: 0.86545455, train_acc: 0.8694\n",
      "Iter: 20, test_acc: 0.8676, train_acc: 0.8778\n",
      "Iter: 21, test_acc: 0.8685455, train_acc: 0.8731\n",
      "Iter: 22, test_acc: 0.86963636, train_acc: 0.8782\n",
      "Iter: 23, test_acc: 0.87118185, train_acc: 0.8763\n",
      "Iter: 24, test_acc: 0.87381816, train_acc: 0.8804\n",
      "Iter: 25, test_acc: 0.8745091, train_acc: 0.8786\n",
      "Iter: 26, test_acc: 0.8763091, train_acc: 0.8803\n",
      "Iter: 27, test_acc: 0.8763273, train_acc: 0.8822\n",
      "Iter: 28, test_acc: 0.8789273, train_acc: 0.8818\n",
      "Iter: 29, test_acc: 0.87805456, train_acc: 0.8837\n"
     ]
    }
   ],
   "source": [
    "mnist = input_data.read_data_sets(\"../MNIST/MNIST_data\", one_hot=True)\n",
    "batch_size = 100\n",
    "n_batch = mnist.train.num_examples // batch_size\n",
    "\n",
    "#network\n",
    "x = tf.placeholder(tf.float32, [None, 784])\n",
    "y = tf.placeholder(tf.float32, [None, 10])\n",
    "keep_prob = tf.placeholder(tf.float32)\n",
    "\n",
    "w1 = tf.Variable(tf.truncated_normal([784, 400], stddev=0.1))\n",
    "b1 = tf.Variable(tf.zeros([400]) + 0.1)\n",
    "L1 = tf.tanh(tf.matmul(x, w1) + b1)\n",
    "L1_drop = tf.nn.dropout(L1, keep_prob)\n",
    "\n",
    "w2 = tf.Variable(tf.truncated_normal([400, 400], stddev=0.1))\n",
    "b2 = tf.Variable(tf.zeros([400]) + 0.1)\n",
    "L2 = tf.tanh(tf.matmul(L1_drop, w2) + b2)\n",
    "L2_drop = tf.nn.dropout(L2, keep_prob)\n",
    "\n",
    "w3 = tf.Variable(tf.truncated_normal([400, 10], stddev=0.1))\n",
    "b3 = tf.Variable(tf.zeros([10]) + 0.1)\n",
    "predict = tf.nn.softmax(tf.matmul(L2_drop, w3) + b3)\n",
    "\n",
    "#两种loss,最小二乘和交叉熵\n",
    "#loss = tf.reduce_mean(tf.square(y-predict))\n",
    "loss = tf.reduce_mean(tf.nn.softmax_cross_entropy_with_logits(labels = y, logits=predict))\n",
    "train = tf.train.GradientDescentOptimizer(0.01).minimize(loss)\n",
    "\n",
    "#run\n",
    "init = tf.global_variables_initializer()\n",
    "correct_predict = tf.equal(tf.argmax(y, 1), tf.argmax(predict, 1))  #argmax返回最大值的位置\n",
    "accuracy = tf.reduce_mean(tf.cast(correct_predict, tf.float32))\n",
    "\n",
    "with tf.Session() as sess:\n",
    "    sess.run(init)\n",
    "    for epoch in range(30):\n",
    "        for batch in range(n_batch):\n",
    "            batch_xs, batch_ys = mnist.train.next_batch(batch_size)\n",
    "            sess.run(train, feed_dict={x:batch_xs, y:batch_ys,keep_prob:0.5})\n",
    "        test_acc = sess.run(accuracy, feed_dict={x:mnist.train.images, y:mnist.train.labels, keep_prob:0.5})\n",
    "        train_acc = sess.run(accuracy, feed_dict={x:mnist.test.images, y:mnist.test.labels, keep_prob:0.5})\n",
    "        print(\"Iter: \"+str(epoch) +\", test_acc: \"+str(test_acc) + \", train_acc: \"+ str(train_acc))"
   ]
  },
  {
   "cell_type": "markdown",
   "metadata": {},
   "source": [
    "## CNN"
   ]
  },
  {
   "cell_type": "code",
   "execution_count": null,
   "metadata": {
    "collapsed": true
   },
   "outputs": [],
   "source": []
  },
  {
   "cell_type": "code",
   "execution_count": null,
   "metadata": {},
   "outputs": [
    {
     "name": "stdout",
     "output_type": "stream",
     "text": [
      "WARNING:tensorflow:From <ipython-input-2-5c39e4312b03>:1: read_data_sets (from tensorflow.contrib.learn.python.learn.datasets.mnist) is deprecated and will be removed in a future version.\n",
      "Instructions for updating:\n",
      "Please use alternatives such as official/mnist/dataset.py from tensorflow/models.\n",
      "WARNING:tensorflow:From /data/anaconda2/lib/python2.7/site-packages/tensorflow/contrib/learn/python/learn/datasets/mnist.py:260: maybe_download (from tensorflow.contrib.learn.python.learn.datasets.base) is deprecated and will be removed in a future version.\n",
      "Instructions for updating:\n",
      "Please write your own downloading logic.\n",
      "WARNING:tensorflow:From /data/anaconda2/lib/python2.7/site-packages/tensorflow/contrib/learn/python/learn/datasets/mnist.py:262: extract_images (from tensorflow.contrib.learn.python.learn.datasets.mnist) is deprecated and will be removed in a future version.\n",
      "Instructions for updating:\n",
      "Please use tf.data to implement this functionality.\n",
      "Extracting ../MNIST/MNIST_data/train-images-idx3-ubyte.gz\n",
      "WARNING:tensorflow:From /data/anaconda2/lib/python2.7/site-packages/tensorflow/contrib/learn/python/learn/datasets/mnist.py:267: extract_labels (from tensorflow.contrib.learn.python.learn.datasets.mnist) is deprecated and will be removed in a future version.\n",
      "Instructions for updating:\n",
      "Please use tf.data to implement this functionality.\n",
      "Extracting ../MNIST/MNIST_data/train-labels-idx1-ubyte.gz\n",
      "WARNING:tensorflow:From /data/anaconda2/lib/python2.7/site-packages/tensorflow/contrib/learn/python/learn/datasets/mnist.py:110: dense_to_one_hot (from tensorflow.contrib.learn.python.learn.datasets.mnist) is deprecated and will be removed in a future version.\n",
      "Instructions for updating:\n",
      "Please use tf.one_hot on tensors.\n",
      "Extracting ../MNIST/MNIST_data/t10k-images-idx3-ubyte.gz\n",
      "Extracting ../MNIST/MNIST_data/t10k-labels-idx1-ubyte.gz\n",
      "WARNING:tensorflow:From /data/anaconda2/lib/python2.7/site-packages/tensorflow/contrib/learn/python/learn/datasets/mnist.py:290: __init__ (from tensorflow.contrib.learn.python.learn.datasets.mnist) is deprecated and will be removed in a future version.\n",
      "Instructions for updating:\n",
      "Please use alternatives such as official/mnist/dataset.py from tensorflow/models.\n",
      "WARNING:tensorflow:From <ipython-input-2-5c39e4312b03>:69: softmax_cross_entropy_with_logits (from tensorflow.python.ops.nn_ops) is deprecated and will be removed in a future version.\n",
      "Instructions for updating:\n",
      "\n",
      "Future major versions of TensorFlow will allow gradients to flow\n",
      "into the labels input on backprop by default.\n",
      "\n",
      "See tf.nn.softmax_cross_entropy_with_logits_v2.\n",
      "\n",
      "Iter: 0 acc: 0.867\n",
      "Iter: 1 acc: 0.9692\n",
      "Iter: 2 acc: 0.9789\n",
      "Iter: 3 acc: 0.983\n",
      "Iter: 4 acc: 0.9848\n",
      "Iter: 5 acc: 0.9866\n",
      "Iter: 6 acc: 0.9876\n",
      "Iter: 7 acc: 0.9868\n",
      "Iter: 8 acc: 0.9884\n",
      "Iter: 9 acc: 0.9899\n",
      "Iter: 10 acc: 0.9902\n",
      "Iter: 11 acc: 0.9905\n",
      "Iter: 12 acc: 0.9904\n",
      "Iter: 13 acc: 0.9896\n",
      "Iter: 14 acc: 0.9917\n",
      "Iter: 15 acc: 0.9908\n",
      "Iter: 16 acc: 0.9903\n",
      "Iter: 17 acc: 0.9918\n",
      "Iter: 18 acc: 0.993\n",
      "Iter: 19 acc: 0.9917\n"
     ]
    }
   ],
   "source": [
    "mnist = input_data.read_data_sets('../MNIST/MNIST_data', one_hot=True)\n",
    "\n",
    "#定义批从\n",
    "batch_size = 100\n",
    "n_batchs = mnist.train.num_examples // batch_size\n",
    "\n",
    "#初始化权重\n",
    "def weight_variable(shape):\n",
    "    initial = tf.truncated_normal(shape, stddev=0.1)\n",
    "    return tf.Variable(initial)\n",
    "\n",
    "#初始化偏置\n",
    "def bias_variable(shape):\n",
    "    initial = tf.constant(0.1, shape=shape)\n",
    "    return tf.Variable(initial)\n",
    "\n",
    "#卷积层\n",
    "def conv2d(x, W):\n",
    "    #input tensor [batch, in_height, in_width, in_channels]\n",
    "    #strides : 步长 strides[0]=strides[3]=1, strides[1]:x步长， strides[2]:y 步长\n",
    "    #padding \"SAME\" \"VALID\"\n",
    "    return tf.nn.conv2d(x, W, strides=[1, 1, 1, 1], padding='SAME')\n",
    "\n",
    "#池化层\n",
    "def max_pool_2x2(x):\n",
    "    #ksize [1, x, y, 1]\n",
    "    return tf.nn.max_pool(x, ksize=[1, 2, 2, 1], strides=[1, 2, 2, 1], padding='SAME')\n",
    "\n",
    "#nn\n",
    "x = tf.placeholder(tf.float32, [None, 784])\n",
    "y = tf.placeholder(tf.float32, [None, 10])\n",
    "\n",
    "#CNN需要2维数据 [batch, height, width, channels]\n",
    "x_image = tf.reshape(x, [-1, 28, 28, 1])\n",
    "\n",
    "#L1\n",
    "w_conv1 = weight_variable([5, 5, 1, 32]) # 5 * 5的窗口，从一个平面上抽32个平面\n",
    "b_conv1 = bias_variable([32])  #每个平面加一个bias\n",
    "h_conv1 = tf.nn.relu(conv2d(x_image, w_conv1) + b_conv1)  #x_image和权值向量卷积，加上偏置，再加relu\n",
    "h_pool1 = max_pool_2x2(h_conv1)   #池化\n",
    "\n",
    "#L2\n",
    "w_conv2 = weight_variable([5, 5, 32, 64]) # 5 * 5的窗口，从一个平面上抽32个平面\n",
    "b_conv2 = bias_variable([64])  #每个平面加一个bias\n",
    "h_conv2 = tf.nn.relu(conv2d(h_pool1, w_conv2) + b_conv2)\n",
    "h_pool2 = max_pool_2x2(h_conv2)\n",
    "\n",
    "#1st:28*28 卷积后:28*28, 池化后：14*14\n",
    "#2nd:14*14  卷积后:14*14, 池化后: 7*7\n",
    "#最后得到 64张 7*7 的平面\n",
    "\n",
    "#全连接层\n",
    "#L1\n",
    "w_fc_1 = weight_variable([7*7*64, 1024])  #把7*7*64的结果平铺为1层\n",
    "b_fc_1 = weight_variable([1024])\n",
    "drop_out = tf.placeholder(tf.float32)  #dropout\n",
    "\n",
    "h_pool2_1d = tf.reshape(h_pool2, [-1, 7 * 7 * 64])\n",
    "h_fc_out_1 = tf.nn.relu(tf.matmul(h_pool2_1d, w_fc_1) + b_fc_1)\n",
    "L1_drop = tf.nn.dropout(h_fc_out_1, drop_out)\n",
    "\n",
    "#L2\n",
    "w_fc_2 = weight_variable([1024, 10])\n",
    "b_fc_2 = bias_variable([10])\n",
    "\n",
    "#train\n",
    "predict = tf.nn.softmax(tf.matmul(L1_drop, w_fc_2) + b_fc_2)\n",
    "\n",
    "cross_entropy = tf.reduce_mean(tf.nn.softmax_cross_entropy_with_logits(labels=y, logits=predict))\n",
    "train = tf.train.AdamOptimizer(1e-4).minimize(cross_entropy)\n",
    "\n",
    "correct_predict = tf.equal(tf.argmax(predict, 1), tf.argmax(y, 1))\n",
    "accuracy = tf.reduce_mean(tf.cast(correct_predict, tf.float32))\n",
    "\n",
    "#run\n",
    "with tf.Session() as sess:\n",
    "    sess.run(tf.global_variables_initializer())\n",
    "    for epoch in range(20):\n",
    "        for batch in range(n_batchs):\n",
    "            batch_xs, batch_ys = mnist.train.next_batch(batch_size)\n",
    "            sess.run(train, feed_dict={x:batch_xs, y:batch_ys, drop_out:0.7})\n",
    "        \n",
    "        acc = sess.run(accuracy, feed_dict={x:mnist.test.images, y: mnist.test.labels, drop_out:1.0})\n",
    "        print(\"Iter: \" + str(epoch)+\" acc: \"+ str(acc))\n"
   ]
  },
  {
   "cell_type": "markdown",
   "metadata": {
    "collapsed": true
   },
   "source": [
    "## tensorboard"
   ]
  },
  {
   "cell_type": "code",
   "execution_count": 1,
   "metadata": {},
   "outputs": [
    {
     "ename": "NameError",
     "evalue": "name 'input_data' is not defined",
     "traceback": [
      "\u001b[0;31m---------------------------------------------------------------------------\u001b[0m",
      "\u001b[0;31mNameError\u001b[0m                                 Traceback (most recent call last)",
      "\u001b[0;32m<ipython-input-1-a1471658fb88>\u001b[0m in \u001b[0;36m<module>\u001b[0;34m()\u001b[0m\n\u001b[0;32m----> 1\u001b[0;31m \u001b[0mmnist\u001b[0m \u001b[0;34m=\u001b[0m \u001b[0minput_data\u001b[0m\u001b[0;34m.\u001b[0m\u001b[0mread_data_sets\u001b[0m\u001b[0;34m(\u001b[0m\u001b[0;34m'../MNIST/MNIST_data'\u001b[0m\u001b[0;34m,\u001b[0m \u001b[0mone_hot\u001b[0m\u001b[0;34m=\u001b[0m\u001b[0mTrue\u001b[0m\u001b[0;34m)\u001b[0m\u001b[0;34m\u001b[0m\u001b[0m\n\u001b[0m\u001b[1;32m      2\u001b[0m \u001b[0;34m\u001b[0m\u001b[0m\n\u001b[1;32m      3\u001b[0m \u001b[0;31m#定义批从\u001b[0m\u001b[0;34m\u001b[0m\u001b[0;34m\u001b[0m\u001b[0m\n\u001b[1;32m      4\u001b[0m \u001b[0mbatch_size\u001b[0m \u001b[0;34m=\u001b[0m \u001b[0;36m100\u001b[0m\u001b[0;34m\u001b[0m\u001b[0m\n\u001b[1;32m      5\u001b[0m \u001b[0mn_batchs\u001b[0m \u001b[0;34m=\u001b[0m \u001b[0mmnist\u001b[0m\u001b[0;34m.\u001b[0m\u001b[0mtrain\u001b[0m\u001b[0;34m.\u001b[0m\u001b[0mnum_examples\u001b[0m \u001b[0;34m//\u001b[0m \u001b[0mbatch_size\u001b[0m\u001b[0;34m\u001b[0m\u001b[0m\n",
      "\u001b[0;31mNameError\u001b[0m: name 'input_data' is not defined"
     ],
     "output_type": "error"
    }
   ],
   "source": [
    "mnist = input_data.read_data_sets('../MNIST/MNIST_data', one_hot=True)\n",
    "\n",
    "#定义批从\n",
    "batch_size = 100\n",
    "n_batchs = mnist.train.num_examples // batch_size\n",
    "\n",
    "#参数\n",
    "def variable_summaries(var):\n",
    "    with tf.name_scope('summaries'):\n",
    "        mean = tf.reduce_mean(var)\n",
    "        tf.summary.scalar('mean',mean)\n",
    "        with tf.name_scope('stddev'):\n",
    "            stddev = tf.sqrt(tf.reduce_mean(tf.square(var - mean)))\n",
    "        tf.summary.scalar('stddev', stddev)\n",
    "        tf.summary.scalar('max', tf.reduce_max(var))\n",
    "        tf.summary.scalar('min', tf.reduce_min(var))\n",
    "        tf.summary.scalar('histogram', var)\n",
    "\n",
    "#初始化权重\n",
    "def weight_variable(shape, name):\n",
    "    initial = tf.truncated_normal(shape, stddev=0.1)\n",
    "    return tf.Variable(initial, name=name)\n",
    "\n",
    "#初始化偏置\n",
    "def bias_variable(shape, name):\n",
    "    initial = tf.constant(0.1, shape=shape)\n",
    "    return tf.Variable(initial, name=name)\n",
    "\n",
    "#卷积层\n",
    "def conv2d(x, W):\n",
    "    #input tensor [batch, in_height, in_width, in_channels]\n",
    "    #strides : 步长 strides[0]=strides[3]=1, strides[1]:x步长， strides[2]:y 步长\n",
    "    #padding \"SAME\" \"VALID\"\n",
    "    return tf.nn.conv2d(x, W, strides=[1, 1, 1, 1], padding='SAME')\n",
    "\n",
    "#池化层\n",
    "def max_pool_2x2(x):\n",
    "    #ksize [1, x, y, 1]\n",
    "    return tf.nn.max_pool(x, ksize=[1, 2, 2, 1], strides=[1, 2, 2, 1], padding='SAME')\n",
    "\n",
    "with tf.name_scope('input'):\n",
    "    #nn\n",
    "    x = tf.placeholder(tf.float32, [None, 784], name='x_input')\n",
    "    y = tf.placeholder(tf.float32, [None, 10], name='y_input')\n",
    "    with tf.name_scope(\"x_image\"):\n",
    "    #CNN需要2维数据 [batch, height, width, channels]\n",
    "        x_image = tf.reshape(x, [-1, 28, 28, 1], name='x_image')\n",
    "\n",
    "#L1\n",
    "with tf.name_scope('conv1'):\n",
    "    #初始化weight和bias\n",
    "    with tf.name_scope('w_conv1'):\n",
    "        w_conv1 = weight_variable([5, 5, 1, 32], name='w_conv1') # 5 * 5的窗口，从一个平面上抽32个平面\n",
    "    with tf.name_scope('b_conv1'):\n",
    "        b_conv1 = bias_variable([32], name='b_conv1')  #每个平面加一个bias\n",
    "    #卷积\n",
    "    with tf.name_scope('conv2d_1'):\n",
    "        conv2d_1 = conv2d(x_image, w_conv1) + b_conv1  #x_image和权值向量卷积，加上偏置，再加relu\n",
    "    with tf.name_scope('relu'):\n",
    "        h_conv1 = tf.nn.relu(conv2d_1)\n",
    "    #池化\n",
    "    with tf.name_scope('h_pool1'):\n",
    "        h_pool1 = max_pool_2x2(h_conv1)   #池化\n",
    "\n",
    "#L2\n",
    "with tf.name_scope('conv2'):\n",
    "    #初始化weight & bias\n",
    "    with tf.name_scope('w_conv2'):\n",
    "        w_conv2 = weight_variable([5, 5, 32, 64], name='w_conv2') # 5 * 5的窗口，从一个平面上抽32个平面\n",
    "    with tf.name_scope('b_conv2'):\n",
    "        b_conv2 = bias_variable([64], name='b_conv2')  #每个平面加一个bias\n",
    "    #卷积\n",
    "    with tf.name_scope('conv2d_2'):\n",
    "        conv2d_2 = conv2d(h_pool1, w_conv2) + b_conv2\n",
    "    with tf.name_scope('relu'):\n",
    "        h_conv2 = tf.nn.relu(conv2d_2)\n",
    "    #池化\n",
    "    with tf.name_scope('h_pool2'):\n",
    "        h_pool2 = max_pool_2x2(h_conv2)\n",
    "\n",
    "#1st:28*28 卷积后:28*28, 池化后：14*14\n",
    "#2nd:14*14  卷积后:14*14, 池化后: 7*7\n",
    "#最后得到 64张 7*7 的平面\n",
    "\n",
    "#全连接层\n",
    "with tf.name_scope('fc1'):\n",
    "#L1\n",
    "    #初始化weight & bias\n",
    "    with tf.name_scope('w_fc1'):\n",
    "        w_fc_1 = weight_variable([7*7*64, 1024], name='w_fc1')  \n",
    "    with tf.name_scope('b_fc1'):\n",
    "        b_fc_1 = weight_variable([1024], name='b_fc1')\n",
    "    #把7*7*64的结果平铺为1层\n",
    "    with tf.name_scope('h_pool_flat1'):  \n",
    "        h_pool2_1d = tf.reshape(h_pool2, [-1, 7 * 7 * 64], name='h_pool_flat1')\n",
    "    #tanh(wx + b)\n",
    "    with tf.name_scope('fc_out'):\n",
    "        h_fc_a_1 = tf.matmul(h_pool2_1d, w_fc_1) + b_fc_1\n",
    "    with tf.name_scope('relu'):\n",
    "        h_fc_out_1 = tf.nn.relu(h_fc_a_1)\n",
    "    #加一层drop-out\n",
    "    with tf.name_scope('drop_out'):\n",
    "        drop_out = tf.placeholder(tf.float32, name='dropout')  #dropout\n",
    "    with tf.name_scope('out_1'):\n",
    "        L1_drop = tf.nn.dropout(h_fc_out_1, drop_out, name='out_1')\n",
    "\n",
    "#L2\n",
    "with tf.name_scope('fc2'):\n",
    "    #初始化weight & bias\n",
    "    with tf.name_scope('w_fc2'):\n",
    "        w_fc_2 = weight_variable([1024, 10], name='w_fc2')\n",
    "    with tf.name_scope('b_fc2'):\n",
    "        b_fc_2 = bias_variable([10], name='b_fc2')\n",
    "    # softmax(w*x + b)\n",
    "    with tf.name_scope('fc_out2'):\n",
    "        h_fc_out_2 = tf.matmul(L1_drop, w_fc_2) + b_fc_2\n",
    "    with tf.name_scope('softmax'):\n",
    "        predict = tf.nn.softmax(h_fc_out_2)\n",
    "\n",
    "#loss function\n",
    "with tf.name_scope('cross_entropy'):\n",
    "    cross_entropy = tf.reduce_mean(tf.nn.softmax_cross_entropy_with_logits(labels=y, logits=predict), name='cross_entropy')\n",
    "    tf.summary.scalar('cross_entroy', cross_entropy)\n",
    "with tf.name_scope('train'):\n",
    "    train = tf.train.AdamOptimizer(1e-4).minimize(cross_entropy)\n",
    "\n",
    "with tf.name_scope('accuracy'):\n",
    "    with tf.name_scope('correct_predict'):\n",
    "        correct_predict = tf.equal(tf.argmax(predict, 1), tf.argmax(y, 1))\n",
    "    with tf.name_scope('accuracy'):\n",
    "        accuracy = tf.reduce_mean(tf.cast(correct_predict, tf.float32))\n",
    "        tf.summary.scalar('accuracy', accuracy)\n",
    "        \n",
    "merge = tf.summary.merge_all()\n",
    "        \n",
    "#run\n",
    "with tf.Session() as sess:\n",
    "    sess.run(tf.global_variables_initializer())\n",
    "    train_writer = tf.summary.FileWriter('logs/train', sess.graph)\n",
    "    test_writer = tf.summary.FileWriter('logs/test', sess.graph)\n",
    "    for epoch in range(200):\n",
    "        #train\n",
    "        batch_xs, batch_ys = mnist.train.next_batch(batch_size)\n",
    "        sess.run(train, feed_dict={x:batch_xs, y:batch_ys, drop_out:0.7})\n",
    "\n",
    "        summary = sess.run(merge, feed_dict={x:batch_xs, y:batch_ys, drop_out:0.7})\n",
    "        train_writer.add_summary(summary, epoch)\n",
    "        #test\n",
    "        batch_xs, batch_ys = mnist.test.next_batch(batch_size)            \n",
    "        summary = sess.run(merge, feed_dict={x:batch_xs, y:batch_ys, drop_out:0.7})\n",
    "        test_writer.add_summary(summary, epoch)\n",
    "\n",
    "        if(epoch % 100 ==0):\n",
    "            test_acc = sess.run(accuracy, feed_dict={x:mnist.test.images, y: mnist.test.labels, drop_out:1.0})\n",
    "            train_acc = sess.run(accuracy, feed_dict={x:mnist.test.images, y: mnist.test.labels, drop_out:1.0})\n",
    "            print(\"Iter: \" + str(epoch)+\" test acc: \"+ str(test_acc) + \" train acc: \" + str(train_acc))\n"
   ]
  },
  {
   "cell_type": "markdown",
   "metadata": {
    "collapsed": true
   },
   "source": [
    "### RNN"
   ]
  },
  {
   "cell_type": "code",
   "execution_count": null,
   "metadata": {},
   "outputs": [
    {
     "name": "stdout",
     "output_type": "stream",
     "text": [
      "Extracting ../MNIST/MNIST_data/train-images-idx3-ubyte.gz\n",
      "Extracting ../MNIST/MNIST_data/train-labels-idx1-ubyte.gz\n",
      "Extracting ../MNIST/MNIST_data/t10k-images-idx3-ubyte.gz\n",
      "Extracting ../MNIST/MNIST_data/t10k-labels-idx1-ubyte.gz\n",
      "Iter: 0, test acc: 0.58\n",
      "Iter: 1, test acc: 0.84\n",
      "Iter: 2, test acc: 0.88\n",
      "Iter: 3, test acc: 0.92\n",
      "Iter: 5, test acc: 0.96\n"
     ]
    }
   ],
   "source": [
    "mnist = input_data.read_data_sets('../MNIST/MNIST_data', one_hot=True)\n",
    "tf.reset_default_graph()\n",
    "#图片是28*28\n",
    "n_input = 28 #一行，一行有28个数据\n",
    "max_time = 28 #一共28行\n",
    "lstm_size =100 #隐藏单元\n",
    "n_classes = 10 #10个分类\n",
    "batch_size = 50 #每批次50个样本\n",
    "n_batch = mnist.train.num_examples //  batch_size #计算批次\n",
    "\n",
    "x = tf.placeholder(tf.float32, [None, 784])\n",
    "y = tf.placeholder(tf.float32, [None, 10])  #标签\n",
    "\n",
    "weights = tf.Variable(tf.truncated_normal([lstm_size, n_classes], stddev = 0.1))\n",
    "bias = tf.Variable(tf.constant(0.1, shape=[n_classes]))\n",
    "\n",
    "#定义RNN\n",
    "def RNN1(X, weights, bias):\n",
    "    inputs = tf.reshape(X, [-1, max_time, n_input])\n",
    "    lstm_cell = tf.contrib.rnn.BasicLSTMCell(lstm_size)\n",
    "    # final_state[0]是cell state\n",
    "    # final_state[1]是hidden state\n",
    "    outputs, final_state = tf.nn.dynamic_rnn(lstm_cell, inputs, dtype = tf.float32)\n",
    "    results = tf.nn.softmax(tf.matmul(final_state[1], weights) + bias)\n",
    "    return results\n",
    "\n",
    "#RNN的结果\n",
    "prediction = RNN1(x, weights, bias)\n",
    "#损失函数\n",
    "cross_entroy = tf.reduce_mean(tf.nn.softmax_cross_entropy_with_logits(logits=prediction, labels=y))\n",
    "#train\n",
    "train = tf.train.AdamOptimizer(1e-4).minimize(cross_entroy)\n",
    "#结果放在bool类型中\n",
    "correct_prediction = tf.equal(tf.arg_max(y, 1), tf.arg_max(prediction, 1))\n",
    "#准确率\n",
    "accuracy = tf.reduce_mean(tf.cast(correct_prediction, tf.float32))\n",
    "#初始化\n",
    "init = tf.global_variables_initializer()\n",
    "\n",
    "with tf.Session() as sess:\n",
    "    sess.run(init)\n",
    "    for epoch in range(6):\n",
    "        for batch in range(n_batch):\n",
    "            batch_x, batch_y = mnist.train.next_batch(batch_size)\n",
    "            sess.run(train, feed_dict={x:batch_x, y:batch_y})\n",
    "        \n",
    "        acc = sess.run(accuracy, feed_dict={x:batch_x, y:batch_y})\n",
    "        print(\"Iter: \"+str(epoch)+\", test acc: \"+str(acc))"
   ]
  },
  {
   "cell_type": "markdown",
   "metadata": {},
   "source": [
    "### model_save"
   ]
  },
  {
   "cell_type": "markdown",
   "metadata": {},
   "source": [
    "#### save"
   ]
  },
  {
   "cell_type": "code",
   "execution_count": 7,
   "metadata": {},
   "outputs": [
    {
     "name": "stdout",
     "output_type": "stream",
     "text": [
      "Extracting ../MNIST/MNIST_data/train-images-idx3-ubyte.gz\n",
      "Extracting ../MNIST/MNIST_data/train-labels-idx1-ubyte.gz\n",
      "Extracting ../MNIST/MNIST_data/t10k-images-idx3-ubyte.gz\n",
      "Extracting ../MNIST/MNIST_data/t10k-labels-idx1-ubyte.gz\n",
      "Iter: 0, accuracy: 0.5479\n",
      "Iter: 1, accuracy: 0.6138\n",
      "Iter: 2, accuracy: 0.7031\n",
      "Iter: 3, accuracy: 0.765\n",
      "Iter: 4, accuracy: 0.7906\n"
     ]
    }
   ],
   "source": [
    "mnist = input_data.read_data_sets(\"../MNIST/MNIST_data\", one_hot=True)\n",
    "batch_size = 100\n",
    "n_batch = mnist.train.num_examples // batch_size\n",
    "\n",
    "#network\n",
    "x = tf.placeholder(tf.float32, [None, 784])\n",
    "y = tf.placeholder(tf.float32, [None, 10])\n",
    "\n",
    "w = tf.Variable(tf.zeros([784, 10]))\n",
    "b = tf.Variable(tf.zeros([10]))\n",
    "predict = tf.nn.softmax(tf.matmul(x, w) + b)\n",
    "#两种loss,最小二乘和交叉熵\n",
    "#loss = tf.reduce_mean(tf.square(y-predict))\n",
    "loss = tf.reduce_mean(tf.nn.softmax_cross_entropy_with_logits(labels = y, logits=predict))\n",
    "train = tf.train.GradientDescentOptimizer(0.01).minimize(loss)\n",
    "\n",
    "#run\n",
    "init = tf.global_variables_initializer()\n",
    "correct_predict = tf.equal(tf.argmax(y, 1), tf.argmax(predict, 1))  #argmax返回最大值的位置\n",
    "accuracy = tf.reduce_mean(tf.cast(correct_predict, tf.float32))\n",
    "\n",
    "saver = tf.train.Saver()\n",
    "\n",
    "with tf.Session() as sess:\n",
    "    sess.run(init)\n",
    "    for epoch in range(5):\n",
    "        for batch in range(n_batch):\n",
    "            batch_xs, batch_ys = mnist.train.next_batch(batch_size)\n",
    "            sess.run(train, feed_dict={x:batch_xs, y:batch_ys})\n",
    "        auc = sess.run(accuracy, feed_dict={x:mnist.test.images, y:mnist.test.labels})\n",
    "        print(\"Iter: \"+str(epoch) +\", accuracy: \"+str(auc))\n",
    "        \n",
    "    #save\n",
    "    saver.save(sess, 'models/mnist_model_save.ckpt')"
   ]
  },
  {
   "cell_type": "markdown",
   "metadata": {},
   "source": [
    "#### load"
   ]
  },
  {
   "cell_type": "code",
   "execution_count": 3,
   "metadata": {},
   "outputs": [
    {
     "name": "stdout",
     "output_type": "stream",
     "text": [
      "Extracting ../MNIST/MNIST_data/train-images-idx3-ubyte.gz\n",
      "Extracting ../MNIST/MNIST_data/train-labels-idx1-ubyte.gz\n",
      "Extracting ../MNIST/MNIST_data/t10k-images-idx3-ubyte.gz\n",
      "Extracting ../MNIST/MNIST_data/t10k-labels-idx1-ubyte.gz\n",
      "0.098\n",
      "INFO:tensorflow:Restoring parameters from models/mnist_model_save.ckpt\n",
      "0.098\n"
     ]
    }
   ],
   "source": [
    "mnist = input_data.read_data_sets(\"../MNIST/MNIST_data\", one_hot=True)\n",
    "batch_size = 100\n",
    "n_batch = mnist.train.num_examples // batch_size\n",
    "\n",
    "#network\n",
    "x = tf.placeholder(tf.float32, [None, 784])\n",
    "y = tf.placeholder(tf.float32, [None, 10])\n",
    "\n",
    "w = tf.Variable(tf.zeros([784, 10]))\n",
    "b = tf.Variable(tf.zeros([10]))\n",
    "predict = tf.nn.softmax(tf.matmul(x, w) + b)\n",
    "#两种loss,最小二乘和交叉熵\n",
    "#loss = tf.reduce_mean(tf.square(y-predict))\n",
    "loss = tf.reduce_mean(tf.nn.softmax_cross_entropy_with_logits(labels = y, logits=predict))\n",
    "train = tf.train.GradientDescentOptimizer(0.01).minimize(loss)\n",
    "\n",
    "#run\n",
    "init = tf.global_variables_initializer()\n",
    "correct_predict = tf.equal(tf.argmax(y, 1), tf.argmax(predict, 1))  #argmax返回最大值的位置\n",
    "accuracy = tf.reduce_mean(tf.cast(correct_predict, tf.float32))\n",
    "\n",
    "saver = tf.train.Saver()\n",
    "\n",
    "with tf.Session() as sess:\n",
    "    sess.run(init)\n",
    "    print(sess.run(accuracy, feed_dict={x:mnist.test.images, y:mnist.test.labels}))\n",
    "    saver.restore(sess, 'models/mnist_model_save.ckpt')\n",
    "    print(sess.run(accuracy, feed_dict={x:mnist.test.images, y:mnist.test.labels}))"
   ]
  },
  {
   "cell_type": "code",
   "execution_count": 4,
   "metadata": {},
   "outputs": [
    {
     "data": {
      "text/plain": [
       "'1.7.0'"
      ]
     },
     "execution_count": 4,
     "metadata": {},
     "output_type": "execute_result"
    }
   ],
   "source": [
    "tf.__version__"
   ]
  }
 ],
 "metadata": {
  "kernelspec": {
   "display_name": "Python 2",
   "language": "python",
   "name": "python2"
  },
  "language_info": {
   "codemirror_mode": {
    "name": "ipython",
    "version": 2
   },
   "file_extension": ".py",
   "mimetype": "text/x-python",
   "name": "python",
   "nbconvert_exporter": "python",
   "pygments_lexer": "ipython2",
   "version": "2.7.13"
  }
 },
 "nbformat": 4,
 "nbformat_minor": 2
}
